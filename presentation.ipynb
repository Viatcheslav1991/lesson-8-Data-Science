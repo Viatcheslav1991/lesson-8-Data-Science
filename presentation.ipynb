{
 "cells": [
  {
   "cell_type": "code",
   "execution_count": 5,
   "metadata": {},
   "outputs": [],
   "source": [
    "from gameV3 import guess_number\n",
    "from gameV3 import test_funks"
   ]
  },
  {
   "cell_type": "code",
   "execution_count": 6,
   "metadata": {},
   "outputs": [
    {
     "data": {
      "text/plain": [
       "7"
      ]
     },
     "execution_count": 6,
     "metadata": {},
     "output_type": "execute_result"
    }
   ],
   "source": [
    "test_funks()()(guess_number)"
   ]
  }
 ],
 "metadata": {
  "interpreter": {
   "hash": "b9815fc460c6984d63f45f2e26cf0419c677f8f717e5b0647373b9ad59d1f1e9"
  },
  "kernelspec": {
   "display_name": "Python 3.8.12 64-bit ('SF': conda)",
   "language": "python",
   "name": "python3"
  },
  "language_info": {
   "codemirror_mode": {
    "name": "ipython",
    "version": 3
   },
   "file_extension": ".py",
   "mimetype": "text/x-python",
   "name": "python",
   "nbconvert_exporter": "python",
   "pygments_lexer": "ipython3",
   "version": "3.8.12"
  },
  "orig_nbformat": 4
 },
 "nbformat": 4,
 "nbformat_minor": 2
}
